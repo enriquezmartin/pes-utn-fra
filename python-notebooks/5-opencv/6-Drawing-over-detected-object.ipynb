{
 "cells": [
  {
   "cell_type": "code",
   "execution_count": 1,
   "metadata": {
    "id": "Alrsix_0aj5J",
    "outputId": "ed3ee0a2-a58d-4905-8652-f218b8dc2152"
   },
   "outputs": [],
   "source": [
    "import cv2\n",
    "import numpy as np\n",
    "import imutils\n",
    "import matplotlib.pyplot as plt\n",
    "\n",
    "cap = cv2.VideoCapture(0)\n",
    "\n",
    "def get_moments(obj):\n",
    "    moments = cv2.moments(obj)\n",
    "    area = moments['m00']\n",
    "    cX = 0\n",
    "    cY = 0\n",
    "    if (area != 0):\n",
    "        cX = int(moments['m10']/area)\n",
    "        cY = int(moments['m01']/area)\n",
    "    return cX, cY\n",
    "\n",
    "def draw_center_object(obj, img):\n",
    "    x, y = get_moments(obj)\n",
    "    if ((x!=0) and (y!=0)):\n",
    "       #cv.circle(frame, (centro), radio), (color) -1: fill, 3:open\n",
    "       cv2.circle(img, (x, y), 7, (255, 0, 0), -1)\n",
    "    return img\n",
    "\n",
    "def draw_contours(obj, img):\n",
    "    x, y = get_moments(obj)\n",
    "    if ((x!=0) and (y!=0)):\n",
    "        contours, hierarchy = cv2.findContours(obj.copy(), cv2.RETR_EXTERNAL, cv2.CHAIN_APPROX_SIMPLE)\n",
    "        cv2.drawContours(img, contours, -1, (0, 0, 255), 2)\n",
    "    return img\n",
    "\n",
    "while(1):\n",
    "\n",
    "    # Captura un frame\n",
    "    _, frame = cap.read()\n",
    "\n",
    "    # Convert BGR to HSV\n",
    "    hsv = cv2.cvtColor(frame, cv2.COLOR_BGR2HSV)\n",
    "\n",
    "    # define range of blue color in HSV\n",
    "    lower_green = np.array([45,90,90])\n",
    "    upper_green = np.array([80,255,255])\n",
    "\n",
    "    # Threshold the HSV image to get only blue colors\n",
    "    mask = cv2.inRange(hsv, lower_green, upper_green)\n",
    "\n",
    "    frame = draw_center_object(mask, frame)\n",
    "    frame = draw_contours(mask, frame)\n",
    "    cv2.imshow('mask',mask)\n",
    "    cv2.imshow('frame',frame)\n",
    "    k = cv2.waitKey(1) & 0xFF\n",
    "    if k == 27:\n",
    "        break\n",
    "\n",
    "cap.release()\n",
    "cv2.destroyAllWindows()"
   ]
  },
  {
   "cell_type": "code",
   "execution_count": null,
   "metadata": {
    "id": "IusadVVXaj5L"
   },
   "outputs": [],
   "source": []
  }
 ],
 "metadata": {
  "colab": {
   "provenance": []
  },
  "kernelspec": {
   "display_name": "Python 3 (ipykernel)",
   "language": "python",
   "name": "python3"
  },
  "language_info": {
   "codemirror_mode": {
    "name": "ipython",
    "version": 3
   },
   "file_extension": ".py",
   "mimetype": "text/x-python",
   "name": "python",
   "nbconvert_exporter": "python",
   "pygments_lexer": "ipython3",
   "version": "3.12.1"
  }
 },
 "nbformat": 4,
 "nbformat_minor": 4
}
