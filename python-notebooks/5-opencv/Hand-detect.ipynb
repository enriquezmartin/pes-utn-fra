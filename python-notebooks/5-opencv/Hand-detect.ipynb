{
 "cells": [
  {
   "cell_type": "markdown",
   "id": "57e96713-0da0-4411-b81a-1234d6c3c14f",
   "metadata": {},
   "source": [
    "## Fuente: MediaPipe docs\n",
    "\n",
    "https://github.com/google-ai-edge/mediapipe/blob/master/docs/solutions/hands.md\n",
    "![Hand landmarks](https://camo.githubusercontent.com/cc87e384b553a0f19dcf8a36341b37a7081edc0b21b0d0ac364200b9e3bb98a1/68747470733a2f2f6d65646961706970652e6465762f696d616765732f6d6f62696c652f68616e645f6c616e646d61726b732e706e67)"
   ]
  },
  {
   "cell_type": "code",
   "execution_count": 1,
   "id": "d9496a0d-5318-476f-a09d-8bbdcbe89784",
   "metadata": {},
   "outputs": [
    {
     "name": "stderr",
     "output_type": "stream",
     "text": [
      "C:\\Users\\marti\\AppData\\Local\\Programs\\Python\\Python312\\Lib\\site-packages\\google\\protobuf\\symbol_database.py:55: UserWarning: SymbolDatabase.GetPrototype() is deprecated. Please use message_factory.GetMessageClass() instead. SymbolDatabase.GetPrototype() will be removed soon.\n",
      "  warnings.warn('SymbolDatabase.GetPrototype() is deprecated. Please '\n"
     ]
    }
   ],
   "source": [
    "import cv2\n",
    "import mediapipe as mp\n",
    "\n",
    "mp_drawing = mp.solutions.drawing_utils\n",
    "mp_drawing_styles = mp.solutions.drawing_styles\n",
    "mp_hands = mp.solutions.hands\n",
    "\n",
    "# Función para contar los dedos levantados\n",
    "def count_fingers(hand_landmarks):\n",
    "    finger_tips = [8, 12, 16, 20]  # Índices de los puntos clave de las puntas de los dedos\n",
    "    finger_foldings = [6, 10, 14, 18]  # Índices de las articulaciones cercanas a la palma\n",
    "\n",
    "    fingers_up = 0\n",
    "    for tip, folding in zip(finger_tips, finger_foldings):\n",
    "        if hand_landmarks.landmark[tip].y < hand_landmarks.landmark[folding].y:\n",
    "            fingers_up += 1\n",
    "    if hand_landmarks.landmark[4].x < hand_landmarks.landmark[3].x:\n",
    "        fingers_up += 1\n",
    "\n",
    "    return fingers_up\n",
    "\n",
    "# Captura de video desde la webcam\n",
    "cap = cv2.VideoCapture(0)\n",
    "with mp_hands.Hands(\n",
    "    model_complexity=0,\n",
    "    min_detection_confidence=0.5,\n",
    "    min_tracking_confidence=0.5) as hands:\n",
    "    while cap.isOpened():\n",
    "        success, image = cap.read()\n",
    "        if not success:\n",
    "            print(\"Ignoring empty camera frame.\")\n",
    "            continue\n",
    "\n",
    "        image.flags.writeable = False\n",
    "        image = cv2.cvtColor(image, cv2.COLOR_BGR2RGB)\n",
    "        results = hands.process(image)\n",
    "\n",
    "        image.flags.writeable = True\n",
    "        image = cv2.cvtColor(image, cv2.COLOR_RGB2BGR)\n",
    "\n",
    "        fingers_count = 0\n",
    "\n",
    "        if results.multi_hand_landmarks:\n",
    "            for hand_landmarks in results.multi_hand_landmarks:\n",
    "                mp_drawing.draw_landmarks(\n",
    "                    image,\n",
    "                    hand_landmarks,\n",
    "                    mp_hands.HAND_CONNECTIONS,\n",
    "                    mp_drawing_styles.get_default_hand_landmarks_style(),\n",
    "                    mp_drawing_styles.get_default_hand_connections_style())\n",
    "\n",
    "                fingers_count = count_fingers(hand_landmarks)\n",
    "\n",
    "        # Espejar la imagen\n",
    "        flipped_image = cv2.flip(image, 1)\n",
    "\n",
    "        # Agregar el texto \n",
    "        cv2.putText(\n",
    "            flipped_image, f\"Dedos levantados: {fingers_count}\", (10, 30),\n",
    "            cv2.FONT_HERSHEY_SIMPLEX, 1, (0, 255, 0), 2, cv2.LINE_AA)\n",
    "\n",
    "        # Mostrar la imagen\n",
    "        cv2.imshow('MediaPipe Hands', flipped_image)\n",
    "        if cv2.waitKey(5) & 0xFF == 27:\n",
    "            break\n",
    "\n",
    "cap.release()\n",
    "cv2.destroyAllWindows()\n"
   ]
  },
  {
   "cell_type": "code",
   "execution_count": null,
   "id": "279fd2d0-e88d-44fa-9ccf-f51b867e5a43",
   "metadata": {},
   "outputs": [],
   "source": []
  },
  {
   "cell_type": "code",
   "execution_count": null,
   "id": "36ac6ecb-d1c5-4ba3-ad4f-7759daa1e279",
   "metadata": {},
   "outputs": [],
   "source": []
  }
 ],
 "metadata": {
  "kernelspec": {
   "display_name": "Python 3 (ipykernel)",
   "language": "python",
   "name": "python3"
  },
  "language_info": {
   "codemirror_mode": {
    "name": "ipython",
    "version": 3
   },
   "file_extension": ".py",
   "mimetype": "text/x-python",
   "name": "python",
   "nbconvert_exporter": "python",
   "pygments_lexer": "ipython3",
   "version": "3.12.1"
  }
 },
 "nbformat": 4,
 "nbformat_minor": 5
}
