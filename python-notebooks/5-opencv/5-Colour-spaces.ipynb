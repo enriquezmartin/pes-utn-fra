{
 "cells": [
  {
   "cell_type": "markdown",
   "metadata": {
    "id": "-mkP9nfoaMUD"
   },
   "source": [
    "# Espacios de color\n",
    "\n",
    "Existen muchisimos tipos de espacios de color, esto quiere decir que el valor de un color, segun el espacio donde uno se encuentra, se pesa con distintos parametros.\n",
    "\n",
    "## Espacio HSV\n",
    "\n",
    "Es una representación circular de la siguiente forma:\n",
    "* H: Matiz (Angulo) [0-180] <- OpenCV\n",
    "* S: Saturación [0-255]\n",
    "* V: Valor [0-255]\n",
    "\n",
    "![alt text](img/HSV_cone.jpg \"HSV\")\n",
    "\n"
   ]
  },
  {
   "cell_type": "code",
   "execution_count": 1,
   "metadata": {
    "id": "NZYYtLK2aMUF"
   },
   "outputs": [],
   "source": [
    "import cv2\n",
    "import numpy as np\n",
    "import matplotlib.pyplot as plt\n",
    "\n",
    "def nothing(x):\n",
    "    pass\n",
    "\n",
    "# Create a black image, a window\n",
    "img = np.zeros((300,512,3), np.uint8)\n",
    "hsv = np.zeros((300,512,3), np.uint8)\n",
    "cv2.namedWindow('image')\n",
    "\n",
    "# create trackbars for color change\n",
    "cv2.createTrackbar('H','image',0,180,nothing)\n",
    "cv2.createTrackbar('S','image',0,255,nothing)\n",
    "cv2.createTrackbar('V','image',0,255,nothing)\n",
    "\n",
    "while(1):\n",
    "    cv2.imshow('image',img)\n",
    "    k = cv2.waitKey(1) & 0xFF\n",
    "    if k == 27: #Presionar tecla 'esc' para cerrar\n",
    "        break\n",
    "\n",
    "    # get current positions of four trackbars\n",
    "    h = cv2.getTrackbarPos('H','image')\n",
    "    s = cv2.getTrackbarPos('S','image')\n",
    "    v = cv2.getTrackbarPos('V','image')\n",
    "\n",
    "    hsv[:] = [h,s,v]\n",
    "    img = cv2.cvtColor(hsv, cv2.COLOR_HSV2BGR)\n",
    "\n",
    "cv2.destroyAllWindows()\n"
   ]
  },
  {
   "cell_type": "code",
   "execution_count": 2,
   "metadata": {
    "id": "zTStPfs5aMUF"
   },
   "outputs": [],
   "source": [
    "import cv2\n",
    "import numpy as np\n",
    "import matplotlib.pyplot as plt\n",
    "\n",
    "def nothing(x):\n",
    "    pass\n",
    "\n",
    "hminsv = np.zeros((100,200,3), np.uint8)\n",
    "hmaxsv = np.zeros((100,200,3), np.uint8)\n",
    "\n",
    "cv2.namedWindow('mask')\n",
    "cap = cv2.VideoCapture(0)\n",
    "# create trackbars for color change\n",
    "cv2.createTrackbar('Hmin','mask',0,180,nothing)\n",
    "cv2.createTrackbar('Hmax','mask',0,180,nothing)\n",
    "cv2.createTrackbar('S','mask',0,255,nothing)\n",
    "cv2.createTrackbar('V','mask',0,255,nothing)\n",
    "\n",
    "while(1):\n",
    "\n",
    "    # Captura un frame\n",
    "    _, frame = cap.read()\n",
    "\n",
    "    # Convert BGR to HSV\n",
    "    hsv = cv2.cvtColor(frame, cv2.COLOR_BGR2HSV)\n",
    "\n",
    "    # define range of blue color in HSV\n",
    "    hmin = cv2.getTrackbarPos('Hmin','mask')\n",
    "    hmax = cv2.getTrackbarPos('Hmax','mask')\n",
    "    s = cv2.getTrackbarPos('S','mask')\n",
    "    v = cv2.getTrackbarPos('V','mask')\n",
    "    lower_green = np.array([hmin,s,v])\n",
    "    upper_green = np.array([hmax,255,255])\n",
    "\n",
    "    # Threshold the HSV image to get only blue colors\n",
    "    mask = cv2.inRange(hsv, lower_green, upper_green)\n",
    "\n",
    "    # Bitwise-AND mask and original image\n",
    "    res = cv2.bitwise_and(frame,frame, mask= mask)\n",
    "\n",
    "    hminsv[:] = [hmin,s,v]\n",
    "    hsv_min = cv2.cvtColor(hminsv, cv2.COLOR_HSV2BGR)\n",
    "    hmaxsv[:] = [hmax,s,v]\n",
    "    hsv_max = cv2.cvtColor(hmaxsv, cv2.COLOR_HSV2BGR)\n",
    "\n",
    "    cv2.imshow('frame',frame)\n",
    "    cv2.imshow('mask',mask)\n",
    "    cv2.imshow('res',res)\n",
    "    cv2.imshow('hsv_min',hminsv)\n",
    "    cv2.imshow('hsv_max',hmaxsv)\n",
    "    k = cv2.waitKey(5) & 0xFF\n",
    "    if k == 27:\n",
    "        break\n",
    "cap.release()\n",
    "cv2.destroyAllWindows()"
   ]
  },
  {
   "cell_type": "code",
   "execution_count": 1,
   "metadata": {
    "id": "giuLUhwoaMUG"
   },
   "outputs": [
    {
     "ename": "NameError",
     "evalue": "name 'imagen' is not defined",
     "output_type": "error",
     "traceback": [
      "\u001b[1;31m---------------------------------------------------------------------------\u001b[0m",
      "\u001b[1;31mNameError\u001b[0m                                 Traceback (most recent call last)",
      "Cell \u001b[1;32mIn[1], line 6\u001b[0m\n\u001b[0;32m      4\u001b[0m myPath\u001b[38;5;241m=\u001b[39m\u001b[38;5;124m'\u001b[39m\u001b[38;5;124m'\u001b[39m\n\u001b[0;32m      5\u001b[0m loros \u001b[38;5;241m=\u001b[39m cv\u001b[38;5;241m.\u001b[39mimread(myPath\u001b[38;5;241m+\u001b[39m\u001b[38;5;124m'\u001b[39m\u001b[38;5;124mimg/kodim23.png\u001b[39m\u001b[38;5;124m'\u001b[39m,\u001b[38;5;241m1\u001b[39m)\n\u001b[1;32m----> 6\u001b[0m lorosc \u001b[38;5;241m=\u001b[39m cv\u001b[38;5;241m.\u001b[39mcvtColor(\u001b[43mimagen\u001b[49m, cv\u001b[38;5;241m.\u001b[39mCOLOR_BGR2RGB) \u001b[38;5;66;03m# Matplotlib espera RGB\u001b[39;00m\n\u001b[0;32m      7\u001b[0m plt\u001b[38;5;241m.\u001b[39mxticks([]),plt\u001b[38;5;241m.\u001b[39myticks([])\n\u001b[0;32m      8\u001b[0m plt\u001b[38;5;241m.\u001b[39mimshow(lorosc)\n",
      "\u001b[1;31mNameError\u001b[0m: name 'imagen' is not defined"
     ]
    }
   ],
   "source": [
    "import cv2 as cv\n",
    "import numpy as np\n",
    "import matplotlib.pyplot as plt\n",
    "myPath=''\n",
    "loros = cv.imread(myPath+'img/kodim23.png',1)\n",
    "lorosc = cv.cvtColor(loros, cv.COLOR_BGR2RGB) # Matplotlib espera RGB\n",
    "plt.xticks([]),plt.yticks([])\n",
    "plt.imshow(lorosc)\n"
   ]
  }
 ],
 "metadata": {
  "colab": {
   "provenance": []
  },
  "kernelspec": {
   "display_name": "Python 3 (ipykernel)",
   "language": "python",
   "name": "python3"
  },
  "language_info": {
   "codemirror_mode": {
    "name": "ipython",
    "version": 3
   },
   "file_extension": ".py",
   "mimetype": "text/x-python",
   "name": "python",
   "nbconvert_exporter": "python",
   "pygments_lexer": "ipython3",
   "version": "3.10.2"
  }
 },
 "nbformat": 4,
 "nbformat_minor": 4
}
