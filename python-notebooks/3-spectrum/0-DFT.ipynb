{
 "cells": [
  {
   "cell_type": "markdown",
   "metadata": {
    "id": "NNF-e2y8Dpq0"
   },
   "source": [
    "# DFT\n",
    "Ejemplo de implementación, visualización de leakage"
   ]
  },
  {
   "cell_type": "code",
   "execution_count": 1,
   "metadata": {
    "colab": {
     "referenced_widgets": [
      "8e05e04bab7d4d8888c6c1c780a50308"
     ]
    },
    "id": "aoxoM1-9Dpq1",
    "outputId": "bbde5dce-a5bd-40c7-8bc3-56dd697b2cab"
   },
   "outputs": [
    {
     "data": {
      "application/vnd.jupyter.widget-view+json": {
       "model_id": "a76c15315b91437ab8850c62c2837f31",
       "version_major": 2,
       "version_minor": 0
      },
      "text/plain": [
       "interactive(children=(IntSlider(value=150, description='F', max=200, min=100), IntSlider(value=5, description=…"
      ]
     },
     "metadata": {},
     "output_type": "display_data"
    },
    {
     "data": {
      "text/plain": [
       "<function __main__.plt_signal(F, A, Z)>"
      ]
     },
     "execution_count": 1,
     "metadata": {},
     "output_type": "execute_result"
    }
   ],
   "source": [
    "import scipy.signal as sig\n",
    "import numpy as np\n",
    "import matplotlib.pyplot as plt\n",
    "from scipy.fftpack import fft, ifft\n",
    "import math\n",
    "import cmath\n",
    "\n",
    "from ipywidgets import *\n",
    "\n",
    "N = 128\n",
    "Fs = 1024\n",
    "Fc = 256\n",
    "t = np.arange(0, N/Fs, 1/Fs)\n",
    "f = np.arange(-Fs/2, Fs/2, Fs/N)\n",
    "\n",
    "def dft(input):\n",
    "    n = len(input)\n",
    "    output = [complex(0)] * n\n",
    "    for k in range(n):  # For each output element\n",
    "        s = complex(0)\n",
    "        for t in range(n):  # For each input element\n",
    "            s += input[t] * cmath.exp(-2j * cmath.pi * t * k / n)\n",
    "        output[k] = s\n",
    "    return output\n",
    "\n",
    "def plt_signal(F, A, Z):\n",
    "    plt.figure(1)\n",
    "    x = A*np.sin(2*np.pi*F*t)\n",
    "    ze = np.zeros(int(Z/2))\n",
    "    xc = np.concatenate((ze,x,ze),axis=0)\n",
    "    #sp=fftshift(abs(fft(x)))/N\n",
    "    sp = np.absolute(dft(xc))/N\n",
    "    plt.plot(xc, 'r.')\n",
    "    plt.plot(xc,'b')\n",
    "    plt.ylim((-10,10))\n",
    "    plt.show()\n",
    "    plt.figure(2)\n",
    "    plt.stem(sp)\n",
    "    plt.show()\n",
    "\n",
    "\n",
    "interact(plt_signal, F=(100,200,1), A=(0,10,1), Z=(0,200,1))"
   ]
  },
  {
   "cell_type": "code",
   "execution_count": null,
   "metadata": {
    "id": "3Imm6R_mDpq2"
   },
   "outputs": [],
   "source": []
  }
 ],
 "metadata": {
  "colab": {
   "provenance": []
  },
  "kernelspec": {
   "display_name": "Python 3 (ipykernel)",
   "language": "python",
   "name": "python3"
  },
  "language_info": {
   "codemirror_mode": {
    "name": "ipython",
    "version": 3
   },
   "file_extension": ".py",
   "mimetype": "text/x-python",
   "name": "python",
   "nbconvert_exporter": "python",
   "pygments_lexer": "ipython3",
   "version": "3.12.1"
  }
 },
 "nbformat": 4,
 "nbformat_minor": 4
}
